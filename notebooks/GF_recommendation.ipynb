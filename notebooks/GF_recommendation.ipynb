{
 "cells": [
  {
   "cell_type": "code",
   "execution_count": null,
   "id": "37cf411f-9f8a-4466-81fc-9cda3bf4cf1c",
   "metadata": {},
   "outputs": [],
   "source": [
    "import sys\n",
    "import os\n",
    "\n",
    "project_root = os.path.abspath(os.path.join(os.path.dirname(\"__file__\"), \"..\"))\n",
    "sys.path.insert(0, os.path.join(project_root,\"src\"))\n",
    "\n",
    "import gf_selection\n",
    "\n",
    "import math\n",
    "import gf_selection"
   ]
  },
  {
   "cell_type": "markdown",
   "id": "b7484ed7-276e-4e6d-8909-be45e58adcf0",
   "metadata": {},
   "source": [
    "# Calculator\n",
    "This notebook can be used to calcualte a GF suggestion for your planned dive. Arrows ↓ and ↑ are used to indicate which way that factor can effect."
   ]
  },
  {
   "cell_type": "code",
   "execution_count": null,
   "id": "cc892dd7-3b06-4190-958f-46aa0c943a97",
   "metadata": {},
   "outputs": [],
   "source": [
    "D = 30  # depth in meters\n",
    "T = 50  # bottom time in minutes\n",
    "pdcs = 0.02  # accepted rate of decompression sickness (DCS)\n",
    "he_percentage = 0\n",
    "o2_percentage = 34\n",
    "surface_time = 10  # Surface time in hours\n",
    "personal_adjustment = 0"
   ]
  },
  {
   "cell_type": "code",
   "execution_count": null,
   "id": "b215f7e6-bb2f-488b-a7d3-ee251d4a4742",
   "metadata": {},
   "outputs": [],
   "source": [
    "prt = (D/10+1) * math.sqrt(T)\n",
    "print(f\"Pressure Root Time (PRT) value for you dive is {prt:.1f}\")\n",
    "print(\"ZHL-16C has to be adjusted if PRT is over 25. [6]\")"
   ]
  },
  {
   "cell_type": "code",
   "execution_count": null,
   "id": "104c522d-efdb-4601-8447-5f9942538667",
   "metadata": {},
   "outputs": [],
   "source": [
    "P_inert_gas = (D/10+1)*(1-o2_percentage/100)\n",
    "EAD = (P_inert_gas/0.79 - 1)*10\n",
    "print(f\"The equivalent air depth is {EAD:.1f} meters. Your nitrogen load and decompression obligation can be estimated through the StandardAir model [7] by using air in that depth.\")"
   ]
  },
  {
   "cell_type": "markdown",
   "id": "d5c86bb4-c401-4d8c-88c5-10a53412db37",
   "metadata": {},
   "source": [
    "### ↓ Adjust Gradient factors based on PRT\n",
    "\n",
    "Without adjustments ZHL-16C can give dive profiles with too short Decompression Time (TDT) [6]. StandardAir model can be used to calculate necessary TDT based on US navy experimental dives [7]."
   ]
  },
  {
   "cell_type": "code",
   "execution_count": null,
   "id": "71b3c863-7960-409b-b0e2-c22f86a577c4",
   "metadata": {},
   "outputs": [],
   "source": [
    "TDT = gf_selection.get_standair_tdt(EAD, T, pdcs)\n",
    "gf_selection.standair_plot(EAD, T, pdcs)\n",
    "\n",
    "print(f\"Based on the StandardAir model[7], the total deco duration for this dive is {TDT:.0f} minutes.\")"
   ]
  },
  {
   "cell_type": "code",
   "execution_count": null,
   "id": "398abe8e-a221-4cd5-bdf2-2a5330202427",
   "metadata": {},
   "outputs": [],
   "source": [
    "gf_high = gf_selection.fit_gf_to_tdt(T, EAD, TDT)\n",
    "print(f\"Total deco time of {TDT:.0f} minutes (on air) can be achieved with {gf_high}/{gf_high}\")"
   ]
  },
  {
   "cell_type": "markdown",
   "id": "81433a70-a507-4a74-a23f-6b23f3e41ef3",
   "metadata": {},
   "source": [
    "### ↑ Helium percentage\n",
    "Based on (relatively) new research Helium does not change the decompression obligation [8]. However, if you are using a Trimix computer with the helium programmed in (as you should), it is going to add extra safety margin because of it. We can recalculate increase the gf_high to compensate for that unnecessary margin."
   ]
  },
  {
   "cell_type": "code",
   "execution_count": null,
   "id": "d4d4600a-e5a8-4385-b8e9-8b9d2ac8a135",
   "metadata": {},
   "outputs": [],
   "source": [
    "gf_high = gf_selection.fit_gf_to_tdt(T, EAD, TDT, he=he_percentage)\n",
    "print(f\"Total deco time of {TDT:.0f} (on 21/{he_percentage}) can be achieved with {gf_high}/{gf_high}\")"
   ]
  },
  {
   "cell_type": "markdown",
   "id": "c4dd25f5-a9d6-4ab5-af5d-4db548964ca1",
   "metadata": {},
   "source": [
    "### ↓ Surface time\n",
    "Angelini suggests reducing the gf values for surface intervals under 3 hours [5]. Without a clear justification they subtract 15 points from the GF high for a second dive, and add 1 point back every 12 minutes. Comparison to PADI dive tables in [another notebook](https://github.com/hjpulkki/gf-recommendation/blob/main/notebooks/Repetative-dives-analysis.ipynb) suggests much stronger effect. Based data for dives between 20 m and 40 m with bottom time equal to the no decompression limit, you should subtract 37 points from GF high, and add 1 point back everey 5 minutes."
   ]
  },
  {
   "cell_type": "code",
   "execution_count": null,
   "id": "da92613b-b301-4be6-8b46-99618f543b60",
   "metadata": {},
   "outputs": [],
   "source": [
    "# gf_high = gf_high - max(15 - surface_time*60/12, 0)\n",
    "gf_high = gf_high - max(37 - surface_time*60/5, 0)\n",
    "print(f\"Updated gf_high is {gf_high}\")"
   ]
  },
  {
   "cell_type": "markdown",
   "id": "f1259cbe-7bf5-4d54-ad33-5ea38cbe6ea9",
   "metadata": {},
   "source": [
    "## Other things to consider\n",
    "\n",
    "↓ Age, weight, body fat percentage\n",
    "\n",
    "↑ Are you you going to do exercise within 24 hours before the diving? Some studies suggest it can decrease the chance of DCS. [1]\n",
    "\n",
    "↑ Have you done other pre-dive interventions [1], such as:\n",
    "- oxygen breathing\n",
    "- exogenous nitric oxide administration\n",
    "- whole body vibration\n",
    "- sauna\n",
    "- dark chocolate ingestion\n",
    "- bouncing on a mini trampoline"
   ]
  },
  {
   "cell_type": "code",
   "execution_count": null,
   "id": "3c4125db-e3ad-48b6-abc5-9c9eb78b42fa",
   "metadata": {},
   "outputs": [],
   "source": [
    "gf_high += personal_adjustment"
   ]
  },
  {
   "cell_type": "markdown",
   "id": "a00b4838-3ea4-4dff-8117-dc22e359c324",
   "metadata": {},
   "source": [
    "### Low gradient\n",
    "Purpose of the low gradient is to create deep stops similar to bubble models, but those stops are shown to be not benificial [1][3][9]. $GF_{LO}$ is suggested to be set to at least 55% [6] or equal to $GF_{HI}$ [4].\n",
    "\n",
    "It has also been suggested that $GF_{LO}$ can be used to counteract how ZH-L16c \"b\" deviate from modern algorithms developed by the U.S. Navy. This can be done by setting it 83% of $GF_{HI}$ https://indepthmag.com/gradient-factors-in-a-post-deep-stops-world/"
   ]
  },
  {
   "cell_type": "markdown",
   "id": "c15d347f-825a-44ec-9fe5-e24b78457bda",
   "metadata": {},
   "source": [
    "### Final plan"
   ]
  },
  {
   "cell_type": "code",
   "execution_count": null,
   "id": "fbdcd501-9e5a-4111-a04e-1d65659dca23",
   "metadata": {},
   "outputs": [],
   "source": [
    "tdt_actual = gf_selection.get_gf_tdt(T, D, gf_high, he_percentage, o2_percentage, plot_figure=True)"
   ]
  },
  {
   "cell_type": "markdown",
   "id": "7642e40c-9de3-4fd7-895e-3e6b96f55fcb",
   "metadata": {},
   "source": [
    "# Things to consider during the dive\n",
    "\n",
    "↓ Temperature, are you getting cold?\n",
    "Especially important if you are cold during the decompression but not at the bottom. [1]\n",
    "\n",
    "↓ How well hydrated are you?\n",
    "Good hydration can reduce the risk of DCS, but overhydration also has it's problems. [1]\n",
    "\n",
    "↓ Did you end up exercising in the bottom? Exercise can increase the risk of DCS [1]\n",
    "\n",
    "↓ Do you want to do a safety stop after the mandatory stops? Safety stop is more significant on a decompression dive than no decompression dive. [5]\n",
    "\n",
    "↓ Are you actually making critical decissions based on a Jupyter notebook? "
   ]
  },
  {
   "cell_type": "markdown",
   "id": "f8cb842d-2ee7-4710-98af-b22ce798afc4",
   "metadata": {},
   "source": [
    "# References\n",
    "[1] Mitchell, Simon J. \"Decompression illness: a comprehensive overview.\" Diving and Hyperbaric Medicine 54.1Suppl (2024): 1.\n",
    "\n",
    "[2] Fraedrich, Doug. \"Evidence-Based Study on the Setting of High Gradient Factor.\" (2024).\n",
    "\n",
    "[3] Spisni, Enzo, et al. \"A comparative evaluation of two decompression procedures for technical diving using inflammatory responses: compartmental versus ratio deco.\" Diving and hyperbaric medicine 47.1 (2017): 9.\n",
    "\n",
    "[4] De Ridder, Sven, et al. \"Selecting optimal air diving gradient factors for Belgian military divers: more conservative settings are not necessarily safer.\" Diving and Hyperbaric Medicine 53.3 (2023): 251.\n",
    "\n",
    "[5] Angelini, S. \"Dive computer decompression models and algorithms: philosophical and practical views.\" Underw Technol 35.2 (2018): 51-61.\n",
    "\n",
    "[6] Fraedrich, Doug. \"Validation of algorithms used in commercial off-the-shelf dive computer.\" Diving and Hyperbaric Medicine 48.4 (2018): 252.\n",
    "\n",
    "[7] Van Liew, H. D., and E. T. Flynn. A simple probabilistic model for estimating the risk of standard air dives. NEDU TR 04-42, Navy Experimental Diving Unit, 2004.\n",
    "\n",
    "[8] Doolette, David J., Keith A. Gault, and Wayne A. Gerth. \"Decompression from He-N 2-O 2 (trimix) bounce dives is not more efficient than from He-O 2 (heliox) bounce dives.\" Navy Experimental Diving Unit, Panama City (2015).\n",
    "\n",
    "[9] Blatteau JE, Hugon M, Gardette B. Deeps stops during decompression from 50 to 100 msw didn’t reduce bubble formation in man. In: Bennett PB, Wienke BR, Mitchell SJ, editors. Decompression and the deep stop. Undersea and Hyperbaric Medical Society Workshop; 2008 Jun 24-25; Salt Lake City (UT). Durham (NC): Undersea and Hyperbaric Medical Society; 2009. p. 195-206."
   ]
  },
  {
   "cell_type": "code",
   "execution_count": null,
   "id": "5beb6803-3265-4c35-b438-bf54c7e0089e",
   "metadata": {},
   "outputs": [],
   "source": []
  }
 ],
 "metadata": {
  "kernelspec": {
   "display_name": "Python 3 (ipykernel)",
   "language": "python",
   "name": "python3"
  },
  "language_info": {
   "codemirror_mode": {
    "name": "ipython",
    "version": 3
   },
   "file_extension": ".py",
   "mimetype": "text/x-python",
   "name": "python",
   "nbconvert_exporter": "python",
   "pygments_lexer": "ipython3",
   "version": "3.13.1"
  }
 },
 "nbformat": 4,
 "nbformat_minor": 5
}
